{
 "cells": [
  {
   "cell_type": "markdown",
   "id": "b3c6f5e4",
   "metadata": {},
   "source": [
    "Given problem is a *Classification* problem \n",
    "\n",
    "Classification problem: detemining the category based on the features/attributes.\n",
    "\n",
    "The different categories that sould be identified is 'Iris-setosa','Iris-versicolor','Iris-virginica'.\n",
    "\n",
    "The Dependent Variable/Target Variable is 'Species'.\n",
    "\n",
    "The Independent Variables are Sepal-Width(cm),Sepal-Length(cm),Petal-Length(cm),Petal-Width(cm).\n",
    "\n"
   ]
  },
  {
   "cell_type": "code",
   "execution_count": 1,
   "id": "2a72ecf5",
   "metadata": {},
   "outputs": [],
   "source": [
    "import numpy as np\n",
    "import pandas as pd \n",
    "import seaborn as sns\n",
    "import matplotlib.pyplot as plt"
   ]
  },
  {
   "cell_type": "markdown",
   "id": "5cc71b6a",
   "metadata": {},
   "source": [
    "### Importing the dataset"
   ]
  },
  {
   "cell_type": "code",
   "execution_count": 2,
   "id": "0d2a0bd6",
   "metadata": {},
   "outputs": [],
   "source": [
    "iris = pd.read_csv('Iris.csv')"
   ]
  },
  {
   "cell_type": "code",
   "execution_count": 3,
   "id": "e3623d68",
   "metadata": {},
   "outputs": [],
   "source": [
    "# droping the 'id' column\n",
    "iris = iris.drop('Id',axis = 1)"
   ]
  },
  {
   "cell_type": "code",
   "execution_count": 4,
   "id": "4c47a517",
   "metadata": {},
   "outputs": [
    {
     "data": {
      "image/png": "[encoded data removed]",
      "text/plain": [
       "<Figure size 576x288 with 2 Axes>"
      ]
     },
     "metadata": {
      "needs_background": "light"
     },
     "output_type": "display_data"
    }
   ],
   "source": [
    "plt.figure(figsize=(8,4))\n",
    "sns.heatmap(iris.corr(), annot=True) # draws heatmap with input as correlation matrix calculated by iris.corr() \n",
    "plt.show()"
   ]
  },
  {
   "cell_type": "markdown",
   "id": "ce1f872c",
   "metadata": {},
   "source": [
    "*Observation* : \n",
    "\n",
    "The Sepal Width and Length are not correlated,but Petal Width and Length are highly correlated."
   ]
  },
  {
   "cell_type": "markdown",
   "id": "6073cecd",
   "metadata": {},
   "source": [
    "### Splitting the Dependent Variable and Independent Variables"
   ]
  },
  {
   "cell_type": "code",
   "execution_count": 5,
   "id": "4b0ab08e",
   "metadata": {},
   "outputs": [],
   "source": [
    "X = iris.iloc[:, :-1].values\n",
    "y = iris.iloc[:, -1].values"
   ]
  },
  {
   "cell_type": "markdown",
   "id": "392efb49",
   "metadata": {},
   "source": [
    "### Splitting the dataset into the Training set and Test set"
   ]
  },
  {
   "cell_type": "code",
   "execution_count": 6,
   "id": "4d90e0e7",
   "metadata": {},
   "outputs": [],
   "source": [
    "from sklearn.model_selection import train_test_split\n",
    "X_train, X_test, y_train, y_test = train_test_split(X, y, test_size = 0.3,shuffle=True,random_state = 33)"
   ]
  },
  {
   "cell_type": "markdown",
   "id": "1e9c5f7e",
   "metadata": {},
   "source": [
    "### Feature Scaling"
   ]
  },
  {
   "cell_type": "code",
   "execution_count": 7,
   "id": "c4c44e2e",
   "metadata": {},
   "outputs": [],
   "source": [
    "from sklearn.preprocessing import StandardScaler\n",
    "sc = StandardScaler()\n",
    "X_train = sc.fit_transform(X_train)\n",
    "X_test = sc.transform(X_test)"
   ]
  },
  {
   "cell_type": "markdown",
   "id": "35b7c0e5",
   "metadata": {},
   "source": [
    "## LOGISTIC REGRESSION"
   ]
  },
  {
   "cell_type": "markdown",
   "id": "1764d728",
   "metadata": {},
   "source": [
    "### Training the Logistic Regression model on the Training set"
   ]
  },
  {
   "cell_type": "code",
   "execution_count": 8,
   "id": "b84c0f20",
   "metadata": {},
   "outputs": [
    {
     "data": {
      "text/plain": [
       "LogisticRegression()"
      ]
     },
     "execution_count": 8,
     "metadata": {},
     "output_type": "execute_result"
    }
   ],
   "source": [
    "from sklearn.linear_model import LogisticRegression\n",
    "classifier_logistic = LogisticRegression()\n",
    "classifier_logistic.fit(X_train, y_train)"
   ]
  },
  {
   "cell_type": "markdown",
   "id": "77eb4512",
   "metadata": {},
   "source": [
    "### Making the Confusion Matrix"
   ]
  },
  {
   "cell_type": "code",
   "execution_count": 9,
   "id": "f27d8d0c",
   "metadata": {},
   "outputs": [
    {
     "name": "stdout",
     "output_type": "stream",
     "text": [
      "[[11  0  0]\n",
      " [ 0 15  0]\n",
      " [ 0  2 17]]\n",
      "The accuracy of Logistic Regression is:  95.55555555555556\n",
      "                 precision    recall  f1-score   support\n",
      "\n",
      "    Iris-setosa       1.00      1.00      1.00        11\n",
      "Iris-versicolor       0.88      1.00      0.94        15\n",
      " Iris-virginica       1.00      0.89      0.94        19\n",
      "\n",
      "       accuracy                           0.96        45\n",
      "      macro avg       0.96      0.96      0.96        45\n",
      "   weighted avg       0.96      0.96      0.96        45\n",
      "\n"
     ]
    }
   ],
   "source": [
    "from sklearn.metrics import confusion_matrix, accuracy_score,classification_report\n",
    "y_pred = classifier_logistic.predict(X_test)\n",
    "cm = confusion_matrix(y_test, y_pred)\n",
    "print(cm)\n",
    "print('The accuracy of Logistic Regression is: ',accuracy_score(y_test, y_pred)*100)\n",
    "print(classification_report(y_test,y_pred))"
   ]
  },
  {
   "cell_type": "markdown",
   "id": "3057a7ce",
   "metadata": {},
   "source": [
    "## Support Vector Machine (SVM)"
   ]
  },
  {
   "cell_type": "markdown",
   "id": "e8eb0c0a",
   "metadata": {},
   "source": [
    "### Training the SVM model on the Training set"
   ]
  },
  {
   "cell_type": "code",
   "execution_count": 10,
   "id": "257fac28",
   "metadata": {},
   "outputs": [
    {
     "data": {
      "text/plain": [
       "SVC(kernel='linear')"
      ]
     },
     "execution_count": 10,
     "metadata": {},
     "output_type": "execute_result"
    }
   ],
   "source": [
    "from sklearn.svm import SVC\n",
    "classifier_svm = SVC(kernel = 'linear')\n",
    "classifier_svm.fit(X_train, y_train)"
   ]
  },
  {
   "cell_type": "markdown",
   "id": "06882464",
   "metadata": {},
   "source": [
    "### Making the Confusion Matrix"
   ]
  },
  {
   "cell_type": "code",
   "execution_count": 11,
   "id": "30cb4d1f",
   "metadata": {},
   "outputs": [
    {
     "name": "stdout",
     "output_type": "stream",
     "text": [
      "[[11  0  0]\n",
      " [ 0 15  0]\n",
      " [ 0  2 17]]\n",
      "The accuracy of SVM is:  95.55555555555556\n",
      "                 precision    recall  f1-score   support\n",
      "\n",
      "    Iris-setosa       1.00      1.00      1.00        11\n",
      "Iris-versicolor       0.88      1.00      0.94        15\n",
      " Iris-virginica       1.00      0.89      0.94        19\n",
      "\n",
      "       accuracy                           0.96        45\n",
      "      macro avg       0.96      0.96      0.96        45\n",
      "   weighted avg       0.96      0.96      0.96        45\n",
      "\n"
     ]
    }
   ],
   "source": [
    "from sklearn.metrics import confusion_matrix, accuracy_score,classification_report\n",
    "y_pred = classifier_svm.predict(X_test)\n",
    "cm = confusion_matrix(y_test, y_pred)\n",
    "print(cm)\n",
    "print('The accuracy of SVM is: ',accuracy_score(y_test, y_pred)*100)\n",
    "print(classification_report(y_test,y_pred))"
   ]
  },
  {
   "cell_type": "markdown",
   "id": "b0d13a70",
   "metadata": {},
   "source": [
    "## Decision Tree Classification"
   ]
  },
  {
   "cell_type": "markdown",
   "id": "bcaca188",
   "metadata": {},
   "source": [
    "### Training the Decision Tree Classification model on the Training set"
   ]
  },
  {
   "cell_type": "code",
   "execution_count": 12,
   "id": "2d2f86b5",
   "metadata": {},
   "outputs": [
    {
     "data": {
      "text/plain": [
       "DecisionTreeClassifier()"
      ]
     },
     "execution_count": 12,
     "metadata": {},
     "output_type": "execute_result"
    }
   ],
   "source": [
    "from sklearn.tree import DecisionTreeClassifier\n",
    "classifier_dt = DecisionTreeClassifier()\n",
    "classifier_dt.fit(X_train, y_train)"
   ]
  },
  {
   "cell_type": "markdown",
   "id": "f5910ac0",
   "metadata": {},
   "source": [
    "### Making the Confusion Matrix"
   ]
  },
  {
   "cell_type": "code",
   "execution_count": 13,
   "id": "574b773a",
   "metadata": {},
   "outputs": [
    {
     "name": "stdout",
     "output_type": "stream",
     "text": [
      "[[11  0  0]\n",
      " [ 0 15  0]\n",
      " [ 0  4 15]]\n",
      "The accuracy of Decision Tree is:  91.11111111111111\n",
      "                 precision    recall  f1-score   support\n",
      "\n",
      "    Iris-setosa       1.00      1.00      1.00        11\n",
      "Iris-versicolor       0.79      1.00      0.88        15\n",
      " Iris-virginica       1.00      0.79      0.88        19\n",
      "\n",
      "       accuracy                           0.91        45\n",
      "      macro avg       0.93      0.93      0.92        45\n",
      "   weighted avg       0.93      0.91      0.91        45\n",
      "\n"
     ]
    }
   ],
   "source": [
    "from sklearn.metrics import confusion_matrix, accuracy_score,classification_report\n",
    "y_pred = classifier_dt.predict(X_test)\n",
    "cm = confusion_matrix(y_test, y_pred)\n",
    "print(cm)\n",
    "print('The accuracy of Decision Tree is: ',accuracy_score(y_test, y_pred)*100)\n",
    "print(classification_report(y_test,y_pred))"
   ]
  },
  {
   "cell_type": "markdown",
   "id": "62218943",
   "metadata": {},
   "source": [
    "## K-Nearest Neighbors (K-NN)"
   ]
  },
  {
   "cell_type": "markdown",
   "id": "0bbd8f9b",
   "metadata": {},
   "source": [
    "### Training the K-NN model on the Training set"
   ]
  },
  {
   "cell_type": "code",
   "execution_count": 14,
   "id": "982ad9a0",
   "metadata": {},
   "outputs": [
    {
     "data": {
      "text/plain": [
       "KNeighborsClassifier(n_neighbors=3)"
      ]
     },
     "execution_count": 14,
     "metadata": {},
     "output_type": "execute_result"
    }
   ],
   "source": [
    "from sklearn.neighbors import KNeighborsClassifier\n",
    "classifier_knn = KNeighborsClassifier(n_neighbors = 3)\n",
    "classifier_knn.fit(X_train, y_train)"
   ]
  },
  {
   "cell_type": "markdown",
   "id": "53dea8ea",
   "metadata": {},
   "source": [
    "### Making the Confusion Matrix"
   ]
  },
  {
   "cell_type": "code",
   "execution_count": 15,
   "id": "9cab2338",
   "metadata": {},
   "outputs": [
    {
     "name": "stdout",
     "output_type": "stream",
     "text": [
      "[[11  0  0]\n",
      " [ 0 15  0]\n",
      " [ 0  4 15]]\n",
      "The accuracy of KNN is:  91.11111111111111\n",
      "                 precision    recall  f1-score   support\n",
      "\n",
      "    Iris-setosa       1.00      1.00      1.00        11\n",
      "Iris-versicolor       0.79      1.00      0.88        15\n",
      " Iris-virginica       1.00      0.79      0.88        19\n",
      "\n",
      "       accuracy                           0.91        45\n",
      "      macro avg       0.93      0.93      0.92        45\n",
      "   weighted avg       0.93      0.91      0.91        45\n",
      "\n"
     ]
    }
   ],
   "source": [
    "from sklearn.metrics import confusion_matrix, accuracy_score,classification_report\n",
    "y_pred = classifier_knn.predict(X_test)\n",
    "cm = confusion_matrix(y_test, y_pred)\n",
    "print(cm)\n",
    "print('The accuracy of KNN is: ',accuracy_score(y_test, y_pred)*100)\n",
    "print(classification_report(y_test,y_pred))"
   ]
  },
  {
   "cell_type": "markdown",
   "id": "c01cfb58",
   "metadata": {},
   "source": [
    "#### Checking the accuracies for various values of n for KNN"
   ]
  },
  {
   "cell_type": "code",
   "execution_count": 16,
   "id": "b55323fe",
   "metadata": {},
   "outputs": [
    {
     "name": "stderr",
     "output_type": "stream",
     "text": [
      "<ipython-input-16-baad7280a5b1>:2: DeprecationWarning: The default dtype for empty Series will be 'object' instead of 'float64' in a future version. Specify a dtype explicitly to silence this warning.\n",
      "  a = pd.Series()\n"
     ]
    },
    {
     "data": {
      "text/plain": [
       "([<matplotlib.axis.XTick at 0xc9c09d0>,\n",
       "  <matplotlib.axis.XTick at 0xca0b490>,\n",
       "  <matplotlib.axis.XTick at 0xca180a0>,\n",
       "  <matplotlib.axis.XTick at 0xca49e80>,\n",
       "  <matplotlib.axis.XTick at 0xca5a610>,\n",
       "  <matplotlib.axis.XTick at 0xca5a670>,\n",
       "  <matplotlib.axis.XTick at 0xca5af10>,\n",
       "  <matplotlib.axis.XTick at 0xca616a0>,\n",
       "  <matplotlib.axis.XTick at 0xca61df0>,\n",
       "  <matplotlib.axis.XTick at 0xca66580>],\n",
       " [Text(0, 0, ''),\n",
       "  Text(0, 0, ''),\n",
       "  Text(0, 0, ''),\n",
       "  Text(0, 0, ''),\n",
       "  Text(0, 0, ''),\n",
       "  Text(0, 0, ''),\n",
       "  Text(0, 0, ''),\n",
       "  Text(0, 0, ''),\n",
       "  Text(0, 0, ''),\n",
       "  Text(0, 0, '')])"
      ]
     },
     "execution_count": 16,
     "metadata": {},
     "output_type": "execute_result"
    },
    {
     "data": {
      "image/png": "[encoded data removed]",
      "text/plain": [
       "<Figure size 432x288 with 1 Axes>"
      ]
     },
     "metadata": {
      "needs_background": "light"
     },
     "output_type": "display_data"
    }
   ],
   "source": [
    "a_index = list(range(1,11))\n",
    "a = pd.Series()\n",
    "for i in list(range(1,11)):\n",
    "    model = KNeighborsClassifier(n_neighbors=i)\n",
    "    model.fit(X_train, y_train)\n",
    "    prediction = model.predict(X_test)\n",
    "    a = a.append(pd.Series(accuracy_score(prediction, y_test)))\n",
    "plt.plot(a_index, a)\n",
    "x = [1,2,3,4,5,6,7,8,9,10]\n",
    "plt.xticks(x)"
   ]
  },
  {
   "cell_type": "markdown",
   "id": "1d29a919",
   "metadata": {},
   "source": [
    "## Naive Bayes"
   ]
  },
  {
   "cell_type": "markdown",
   "id": "fe62acb3",
   "metadata": {},
   "source": [
    "## Training the Naive Bayes model on the Training set"
   ]
  },
  {
   "cell_type": "code",
   "execution_count": 17,
   "id": "62f8dbac",
   "metadata": {},
   "outputs": [
    {
     "data": {
      "text/plain": [
       "GaussianNB()"
      ]
     },
     "execution_count": 17,
     "metadata": {},
     "output_type": "execute_result"
    }
   ],
   "source": [
    "from sklearn.naive_bayes import GaussianNB\n",
    "classifier_nb = GaussianNB()\n",
    "classifier_nb.fit(X_train, y_train)"
   ]
  },
  {
   "cell_type": "markdown",
   "id": "6e1c035c",
   "metadata": {},
   "source": [
    "### Making the Confusion Matrix"
   ]
  },
  {
   "cell_type": "code",
   "execution_count": 18,
   "id": "c62e7bd7",
   "metadata": {},
   "outputs": [
    {
     "name": "stdout",
     "output_type": "stream",
     "text": [
      "[[11  0  0]\n",
      " [ 0 15  0]\n",
      " [ 0  2 17]]\n",
      "The accuracy of Naive Bayes is:  95.55555555555556\n",
      "                 precision    recall  f1-score   support\n",
      "\n",
      "    Iris-setosa       1.00      1.00      1.00        11\n",
      "Iris-versicolor       0.88      1.00      0.94        15\n",
      " Iris-virginica       1.00      0.89      0.94        19\n",
      "\n",
      "       accuracy                           0.96        45\n",
      "      macro avg       0.96      0.96      0.96        45\n",
      "   weighted avg       0.96      0.96      0.96        45\n",
      "\n"
     ]
    }
   ],
   "source": [
    "from sklearn.metrics import confusion_matrix, accuracy_score,classification_report\n",
    "y_pred = classifier_nb.predict(X_test)\n",
    "cm = confusion_matrix(y_test, y_pred)\n",
    "print(cm)\n",
    "print('The accuracy of Naive Bayes is: ',accuracy_score(y_test, y_pred)*100)\n",
    "print(classification_report(y_test,y_pred))"
   ]
  },
  {
   "cell_type": "markdown",
   "id": "ba33c476",
   "metadata": {},
   "source": [
    "## Random Forest"
   ]
  },
  {
   "cell_type": "markdown",
   "id": "70bc8a19",
   "metadata": {},
   "source": [
    "### Training the Random Forest model on the Training set"
   ]
  },
  {
   "cell_type": "code",
   "execution_count": 19,
   "id": "0f303197",
   "metadata": {},
   "outputs": [
    {
     "data": {
      "text/plain": [
       "RandomForestClassifier(criterion='entropy', n_estimators=10, random_state=0)"
      ]
     },
     "execution_count": 19,
     "metadata": {},
     "output_type": "execute_result"
    }
   ],
   "source": [
    "from sklearn.ensemble import RandomForestClassifier\n",
    "classifier = RandomForestClassifier(n_estimators = 10, criterion = 'entropy', random_state = 0)\n",
    "classifier.fit(X_train, y_train)"
   ]
  },
  {
   "cell_type": "markdown",
   "id": "b460ea8f",
   "metadata": {},
   "source": [
    "### Making the Confusion Matrix"
   ]
  },
  {
   "cell_type": "code",
   "execution_count": 20,
   "id": "10a45ca2",
   "metadata": {},
   "outputs": [
    {
     "name": "stdout",
     "output_type": "stream",
     "text": [
      "[[11  0  0]\n",
      " [ 0 15  0]\n",
      " [ 0  3 16]]\n",
      "The accuracy of Random Forest is:  93.33333333333333\n",
      "                 precision    recall  f1-score   support\n",
      "\n",
      "    Iris-setosa       1.00      1.00      1.00        11\n",
      "Iris-versicolor       0.83      1.00      0.91        15\n",
      " Iris-virginica       1.00      0.84      0.91        19\n",
      "\n",
      "       accuracy                           0.93        45\n",
      "      macro avg       0.94      0.95      0.94        45\n",
      "   weighted avg       0.94      0.93      0.93        45\n",
      "\n"
     ]
    }
   ],
   "source": [
    "from sklearn.metrics import confusion_matrix, accuracy_score,classification_report\n",
    "y_pred = classifier.predict(X_test)\n",
    "cm = confusion_matrix(y_test, y_pred)\n",
    "print(cm)\n",
    "print('The accuracy of Random Forest is: ',accuracy_score(y_test, y_pred)*100)\n",
    "print(classification_report(y_test,y_pred))"
   ]
  },
  {
   "cell_type": "markdown",
   "id": "da9c6f4e",
   "metadata": {},
   "source": [
    "## We used all the features for above model, now using Petals and Sepals seperately"
   ]
  },
  {
   "cell_type": "markdown",
   "id": "62e71e34",
   "metadata": {},
   "source": [
    "### IRIS Petals data"
   ]
  },
  {
   "cell_type": "code",
   "execution_count": 21,
   "id": "ddf6f013",
   "metadata": {},
   "outputs": [],
   "source": [
    "\n",
    "X_petal_train = X_train[:,[2,3]]\n",
    "X_petal_test = X_test[:,[2,3]]\n"
   ]
  },
  {
   "cell_type": "markdown",
   "id": "00e2be63",
   "metadata": {},
   "source": [
    "### IRIS Sepals data"
   ]
  },
  {
   "cell_type": "code",
   "execution_count": 22,
   "id": "d36156cf",
   "metadata": {},
   "outputs": [],
   "source": [
    "\n",
    "X_sepal_train = X_train[:,[0,1]]\n",
    "X_sepal_test = X_test[:,[0,1]]\n"
   ]
  },
  {
   "cell_type": "markdown",
   "id": "6daf7271",
   "metadata": {},
   "source": [
    "### LOGISTIC REGRESSION"
   ]
  },
  {
   "cell_type": "code",
   "execution_count": 23,
   "id": "092eb354",
   "metadata": {},
   "outputs": [
    {
     "name": "stdout",
     "output_type": "stream",
     "text": [
      "The accuracy of Logistic Regression with only petals is:  95.55555555555556\n",
      "The accuracy of Logistic Regression with only sepals is:  73.33333333333333\n"
     ]
    }
   ],
   "source": [
    "from sklearn.linear_model import LogisticRegression\n",
    "from sklearn.metrics import accuracy_score,classification_report\n",
    "\n",
    "\n",
    "# IRIS PETALS\n",
    "# Training the model\n",
    "classifier_logistic_petal = LogisticRegression()\n",
    "classifier_logistic_petal.fit(X_petal_train, y_train)\n",
    "#Prediction\n",
    "y_petal_pred = classifier_logistic_petal.predict(X_petal_test)\n",
    "print('The accuracy of Logistic Regression with only petals is: ',accuracy_score(y_test, y_petal_pred)*100)\n",
    "\n",
    "\n",
    "# IRIS SEPALS\n",
    "# Training the model\n",
    "classifier_logistic_sepal = LogisticRegression()\n",
    "classifier_logistic_sepal.fit(X_sepal_train, y_train)\n",
    "#Prediction\n",
    "y_sepal_pred = classifier_logistic_sepal.predict(X_sepal_test)\n",
    "print('The accuracy of Logistic Regression with only sepals is: ',accuracy_score(y_test, y_sepal_pred)*100)"
   ]
  },
  {
   "cell_type": "markdown",
   "id": "095c76b0",
   "metadata": {},
   "source": [
    "## Support Vector Machine (SVM)"
   ]
  },
  {
   "cell_type": "code",
   "execution_count": 24,
   "id": "f5bc3dc6",
   "metadata": {},
   "outputs": [
    {
     "name": "stdout",
     "output_type": "stream",
     "text": [
      "The accuracy of SVM with only petals is:  95.55555555555556\n",
      "The accuracy of SVM with only sepals is:  73.33333333333333\n"
     ]
    }
   ],
   "source": [
    "from sklearn.svm import SVC\n",
    "from sklearn.metrics import accuracy_score,classification_report\n",
    "\n",
    "\n",
    "# IRIS PETALS\n",
    "#Training the model\n",
    "classifier_svm_petal = SVC(kernel = 'linear')\n",
    "classifier_svm_petal.fit(X_petal_train, y_train)\n",
    "#Prediction\n",
    "y_petal_pred = classifier_svm_petal.predict(X_petal_test)\n",
    "print('The accuracy of SVM with only petals is: ',accuracy_score(y_test, y_petal_pred)*100)\n",
    "\n",
    "\n",
    "# IRIS SEPALS\n",
    "#Training the model\n",
    "classifier_svm_sepal = SVC(kernel = 'linear')\n",
    "classifier_svm_sepal.fit(X_sepal_train, y_train)\n",
    "#Prediction\n",
    "y_sepal_pred = classifier_svm_sepal.predict(X_sepal_test)\n",
    "print('The accuracy of SVM with only sepals is: ',accuracy_score(y_test, y_sepal_pred)*100)"
   ]
  },
  {
   "cell_type": "markdown",
   "id": "49c713dc",
   "metadata": {},
   "source": [
    "## Decision Tree Classification"
   ]
  },
  {
   "cell_type": "code",
   "execution_count": 25,
   "id": "90a06dec",
   "metadata": {},
   "outputs": [
    {
     "name": "stdout",
     "output_type": "stream",
     "text": [
      "The accuracy of Decision Tree with only petals is:  93.33333333333333\n",
      "The accuracy of Decision Tree with only sepals is:  57.77777777777777\n"
     ]
    }
   ],
   "source": [
    "from sklearn.tree import DecisionTreeClassifier\n",
    "from sklearn.metrics import accuracy_score,classification_report\n",
    "\n",
    "\n",
    "# IRIS PETALS\n",
    "#Training the model\n",
    "classifier_dt_petal = DecisionTreeClassifier()\n",
    "classifier_dt_petal.fit(X_petal_train, y_train)\n",
    "#Prediction\n",
    "from sklearn.metrics import confusion_matrix, accuracy_score\n",
    "y_petal_pred = classifier_dt_petal.predict(X_petal_test)\n",
    "print('The accuracy of Decision Tree with only petals is: ',accuracy_score(y_test, y_petal_pred)*100)\n",
    "\n",
    "\n",
    "# IRIS SEPALS\n",
    "#Training the model\n",
    "classifier_dt_sepal = DecisionTreeClassifier()\n",
    "classifier_dt_sepal.fit(X_sepal_train, y_train)\n",
    "#Prediction\n",
    "y_sepal_pred = classifier_dt_sepal.predict(X_sepal_test)\n",
    "print('The accuracy of Decision Tree with only sepals is: ',accuracy_score(y_test, y_sepal_pred)*100)"
   ]
  },
  {
   "cell_type": "markdown",
   "id": "ac75d9b2",
   "metadata": {},
   "source": [
    "## K-Nearest Neighbors (K-NN)"
   ]
  },
  {
   "cell_type": "code",
   "execution_count": 26,
   "id": "b6197a93",
   "metadata": {},
   "outputs": [
    {
     "name": "stdout",
     "output_type": "stream",
     "text": [
      "The accuracy of KNN with only petals is:  95.55555555555556\n",
      "The accuracy of KNN with only sepals is:  66.66666666666666\n"
     ]
    }
   ],
   "source": [
    "from sklearn.neighbors import KNeighborsClassifier\n",
    "from sklearn.metrics import accuracy_score,classification_report\n",
    "\n",
    "# IRIS PETALS\n",
    "#Training the model\n",
    "classifier_knn_petal = KNeighborsClassifier(n_neighbors = 5)\n",
    "classifier_knn_petal.fit(X_petal_train, y_train)\n",
    "#Prediction\n",
    "y_petal_pred = classifier_knn_petal.predict(X_petal_test)\n",
    "print('The accuracy of KNN with only petals is: ',accuracy_score(y_test, y_petal_pred)*100)\n",
    "\n",
    "\n",
    "# IRIS SEPALS\n",
    "#Training the model\n",
    "classifier_knn_sepal = KNeighborsClassifier(n_neighbors = 5)\n",
    "classifier_knn_sepal.fit(X_sepal_train, y_train)\n",
    "#Prediction\n",
    "y_sepal_pred = classifier_knn_sepal.predict(X_sepal_test)\n",
    "print('The accuracy of KNN with only sepals is: ',accuracy_score(y_test, y_sepal_pred)*100)"
   ]
  },
  {
   "cell_type": "markdown",
   "id": "d5e220ab",
   "metadata": {},
   "source": [
    "## Naive Bayes"
   ]
  },
  {
   "cell_type": "code",
   "execution_count": 27,
   "id": "43f1df14",
   "metadata": {},
   "outputs": [
    {
     "name": "stdout",
     "output_type": "stream",
     "text": [
      "The accuracy of Naive Bayes with only petals is:  97.77777777777777\n",
      "The accuracy of Naive Bayes with only sepals is:  73.33333333333333\n"
     ]
    }
   ],
   "source": [
    "from sklearn.naive_bayes import GaussianNB\n",
    "from sklearn.metrics import accuracy_score,classification_report\n",
    "\n",
    "\n",
    "# IRIS PETALS\n",
    "#Training the model\n",
    "classifier_nb_petal = GaussianNB()\n",
    "classifier_nb_petal.fit(X_petal_train, y_train)\n",
    "#Prediction\n",
    "y_petal_pred = classifier_nb_petal.predict(X_petal_test)\n",
    "print('The accuracy of Naive Bayes with only petals is: ',accuracy_score(y_test, y_petal_pred)*100)\n",
    "\n",
    "\n",
    "# IRIS SEPALS\n",
    "#Training the model\n",
    "classifier_nb_sepal = GaussianNB()\n",
    "classifier_nb_sepal.fit(X_sepal_train, y_train)\n",
    "#Prediction\n",
    "y_sepal_pred = classifier_nb_sepal.predict(X_sepal_test)\n",
    "print('The accuracy of Naive Bayes with only sepals is: ',accuracy_score(y_test, y_sepal_pred)*100)"
   ]
  },
  {
   "cell_type": "code",
   "execution_count": null,
   "id": "1ad7f4ba",
   "metadata": {},
   "outputs": [],
   "source": []
  },
  {
   "cell_type": "markdown",
   "id": "8be4d2b8",
   "metadata": {},
   "source": [
    "### OBSERVATIONS\n",
    "\n",
    "1. By far, SVM,Logistic Regression and Naive Bayes have got the highest accuracy with all features.\n",
    "\n",
    "2. Naive Bayes has also got the higest accuracy with only petals \n",
    "\n",
    "3. The petal-length and petal-width adds significant value for prediction.\n"
   ]
  },
  {
   "cell_type": "code",
   "execution_count": null,
   "id": "9726a987",
   "metadata": {},
   "outputs": [],
   "source": []
  }
 ],
 "metadata": {
  "kernelspec": {
   "display_name": "Python 3",
   "language": "python",
   "name": "python3"
  },
  "language_info": {
   "codemirror_mode": {
    "name": "ipython",
    "version": 3
   },
   "file_extension": ".py",
   "mimetype": "text/x-python",
   "name": "python",
   "nbconvert_exporter": "python",
   "pygments_lexer": "ipython3",
   "version": "3.8.8"
  }
 },
 "nbformat": 4,
 "nbformat_minor": 5
}
